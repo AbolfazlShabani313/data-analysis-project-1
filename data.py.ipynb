{
 "cells": [
  {
   "cell_type": "code",
   "execution_count": 3,
   "metadata": {},
   "outputs": [
    {
     "name": "stderr",
     "output_type": "stream",
     "text": [
      "<>:5: SyntaxWarning: invalid escape sequence '\\o'\n",
      "<>:5: SyntaxWarning: invalid escape sequence '\\o'\n",
      "C:\\Users\\sony\\AppData\\Local\\Temp\\ipykernel_6084\\1117023403.py:5: SyntaxWarning: invalid escape sequence '\\o'\n",
      "  df = pd.read_csv(\"D:\\online_retail.csv\")\n"
     ]
    },
    {
     "name": "stdout",
     "output_type": "stream",
     "text": [
      "میانگین مبلغ خرید در شهریور 1390: 20.16\n",
      "تعداد مشتری یکتا (شامل 'نامشخص'): 992\n",
      "جمع خرید هر مشتری:\n",
      "    CustomerID  TotalPrice\n",
      "0      12748.0     3642.20\n",
      "1      12822.0      690.90\n",
      "2      12828.0       77.31\n",
      "3      12830.0     1210.32\n",
      "4      12832.0      267.80\n",
      "..         ...         ...\n",
      "987    18259.0      891.90\n",
      "988    18261.0      224.80\n",
      "989    18273.0      102.00\n",
      "990    18283.0      134.90\n",
      "991        nan   114881.36\n",
      "\n",
      "[992 rows x 2 columns]\n"
     ]
    }
   ],
   "source": [
    "\n",
    "import pandas as pd\n",
    "import jdatetime  \n",
    "\n",
    "# بارگذاری داده‌ها\n",
    "df = pd.read_csv(\"D:\\online_retail.csv\")\n",
    "\n",
    "# حذف ردیف‌های تکراری\n",
    "df = df.drop_duplicates()\n",
    "\n",
    "# تبدیل تاریخ\n",
    "df['InvoiceDate'] = pd.to_datetime(df['InvoiceDate'])\n",
    "\n",
    "# حذف مقادیر منفی یا صفر\n",
    "df = df[(df['Quantity'] > 0) & (df['UnitPrice'] > 0)]\n",
    "\n",
    "# جایگزینی مواردی که شماره مشتری آنها خالیست با undefined\n",
    "df['CustomerID'] = df['CustomerID'].astype(str)\n",
    "df['CustomerID'] = df['CustomerID'].fillna(\"undefined\")\n",
    "\n",
    "# تبدیل تاریخ میلادی به شمسی\n",
    "df['InvoiceDate_Jalali'] = df['InvoiceDate'].apply(lambda x: jdatetime.date.fromgregorian(date=x.date()))\n",
    "df['Jalali_Year'] = df['InvoiceDate_Jalali'].apply(lambda x: x.year)\n",
    "df['Jalali_Month'] = df['InvoiceDate_Jalali'].apply(lambda x: x.month)\n",
    "\n",
    "# محاسبه مبلغ خرید\n",
    "df['TotalPrice'] = df['Quantity'] * df['UnitPrice']\n",
    "\n",
    "# فیلتر: بریتانیا و شهریور ۱۳۹۰\n",
    "uk_shahrivar_1390 = df[\n",
    "    (df['Country'] == 'United Kingdom') &\n",
    "    (df['Jalali_Year'] == 1390) &\n",
    "    (df['Jalali_Month'] == 6)\n",
    "]\n",
    "\n",
    "# میانگین مبلغ خرید\n",
    "avg_purchase = uk_shahrivar_1390['TotalPrice'].mean()\n",
    "\n",
    "# تعداد مشتری یکتا\n",
    "unique_customers = uk_shahrivar_1390['CustomerID'].nunique()\n",
    "\n",
    "# مجموع خریدهای هر مشتری\n",
    "customer_purchases = uk_shahrivar_1390.groupby('CustomerID')['TotalPrice'].sum().reset_index()\n",
    "\n",
    "# نمایش نتایج\n",
    "print(f\"میانگین مبلغ خرید در شهریور 1390: {avg_purchase:.2f}\")\n",
    "print(f\"تعداد مشتری یکتا (شامل 'نامشخص'): {unique_customers}\")\n",
    "print(\"جمع خرید هر مشتری:\")\n",
    "print(customer_purchases)"
   ]
  }
 ],
 "metadata": {
  "kernelspec": {
   "display_name": "Python 3",
   "language": "python",
   "name": "python3"
  },
  "language_info": {
   "codemirror_mode": {
    "name": "ipython",
    "version": 3
   },
   "file_extension": ".py",
   "mimetype": "text/x-python",
   "name": "python",
   "nbconvert_exporter": "python",
   "pygments_lexer": "ipython3",
   "version": "3.12.4"
  }
 },
 "nbformat": 4,
 "nbformat_minor": 2
}
